{
 "cells": [
  {
   "cell_type": "markdown",
   "id": "4bc099ab",
   "metadata": {},
   "source": [
    "## Análise com recorte temporal (Pré Galácticos)\n",
    "\n",
    "**Disciplina: Redes Sociais**\n",
    "\n",
    "**Grupo: Antonio Fuziy, Eiki Yamashiro e Marcelo Cesário**\n",
    "\n",
    "___"
   ]
  },
  {
   "cell_type": "code",
   "execution_count": null,
   "id": "b00845b7",
   "metadata": {},
   "outputs": [],
   "source": [
    "import pandas as pd\n",
    "import os\n",
    "from graph_tool import Graph, stats, spectral,centrality\n",
    "import statsmodels.formula.api as smf\n",
    "\n",
    "from netpixi.data.gt import *\n",
    "import netpixi\n",
    "import cpnet\n",
    "import seaborn as sns\n",
    "from math import sqrt\n",
    "from matplotlib import rcParams\n",
    "import statsmodels.formula.api as smf\n",
    "import numpy as np\n",
    "from scipy.stats import norm\n",
    "import difflib\n",
    "import seaborn as sns\n",
    "from matplotlib import rcParams"
   ]
  }
 ],
 "metadata": {
  "kernelspec": {
   "display_name": "Python 3 (ipykernel)",
   "language": "python",
   "name": "python3"
  },
  "language_info": {
   "codemirror_mode": {
    "name": "ipython",
    "version": 3
   },
   "file_extension": ".py",
   "mimetype": "text/x-python",
   "name": "python",
   "nbconvert_exporter": "python",
   "pygments_lexer": "ipython3",
   "version": "3.7.11"
  }
 },
 "nbformat": 4,
 "nbformat_minor": 5
}
