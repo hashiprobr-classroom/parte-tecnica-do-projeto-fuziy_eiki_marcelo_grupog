{
 "cells": [
  {
   "cell_type": "markdown",
   "metadata": {},
   "source": [
    "## Tratamento dos dados"
   ]
  },
  {
   "cell_type": "markdown",
   "metadata": {},
   "source": [
    "#### Importação das bibliotecas"
   ]
  },
  {
   "cell_type": "code",
   "execution_count": 2,
   "metadata": {},
   "outputs": [
    {
     "data": {
      "text/html": [
       "\n",
       "    <script src=\"/files/netpixi.min.js\"></script>\n"
      ],
      "text/plain": [
       "<IPython.core.display.HTML object>"
      ]
     },
     "metadata": {},
     "output_type": "display_data"
    }
   ],
   "source": [
    "import pandas as pd\n",
    "import os\n",
    "from graph_tool import Graph, stats\n",
    "from netpixi.data.gt import *\n",
    "import netpixi"
   ]
  },
  {
   "cell_type": "markdown",
   "metadata": {},
   "source": [
    "#### Ligas disponíveis\n",
    "\n",
    "O dataset de transferências possui os dados das seguintes ligas:"
   ]
  },
  {
   "cell_type": "markdown",
   "metadata": {},
   "source": [
    "#### Problemas:\n",
    "\n",
    "- Sub21 e Sub18\n",
    "- Incoerência entre as colunas club_name e club_involved_name"
   ]
  },
  {
   "cell_type": "code",
   "execution_count": 3,
   "metadata": {},
   "outputs": [
    {
     "ename": "FileNotFoundError",
     "evalue": "[Errno 2] No such file or directory: './data/transfers_master/data/2014'",
     "output_type": "error",
     "traceback": [
      "\u001b[0;31m---------------------------------------------------------------------------\u001b[0m",
      "\u001b[0;31mFileNotFoundError\u001b[0m                         Traceback (most recent call last)",
      "\u001b[0;32m/tmp/ipykernel_14/1022848773.py\u001b[0m in \u001b[0;36m<module>\u001b[0;34m\u001b[0m\n\u001b[1;32m      1\u001b[0m \u001b[0mDATA_DIR\u001b[0m \u001b[0;34m=\u001b[0m \u001b[0;34m'./data/transfers_master/data'\u001b[0m\u001b[0;34m\u001b[0m\u001b[0;34m\u001b[0m\u001b[0m\n\u001b[0;32m----> 2\u001b[0;31m \u001b[0mos\u001b[0m\u001b[0;34m.\u001b[0m\u001b[0mlistdir\u001b[0m\u001b[0;34m(\u001b[0m\u001b[0mDATA_DIR\u001b[0m \u001b[0;34m+\u001b[0m \u001b[0;34m'/'\u001b[0m \u001b[0;34m+\u001b[0m \u001b[0;34m'2014'\u001b[0m\u001b[0;34m)\u001b[0m\u001b[0;34m\u001b[0m\u001b[0;34m\u001b[0m\u001b[0m\n\u001b[0m",
      "\u001b[0;31mFileNotFoundError\u001b[0m: [Errno 2] No such file or directory: './data/transfers_master/data/2014'"
     ]
    }
   ],
   "source": [
    "DATA_DIR = './data/transfers_master/data'\n",
    "os.listdir(DATA_DIR + '/' + '2014')"
   ]
  },
  {
   "cell_type": "markdown",
   "metadata": {},
   "source": [
    "#### Loading Data\n",
    "\n",
    "Função para carregar o dataset. Recebe o diretório que o data está salvo e o ano."
   ]
  },
  {
   "cell_type": "code",
   "execution_count": null,
   "metadata": {},
   "outputs": [],
   "source": [
    "def loading_data(DATA_DIR, year):\n",
    "    \n",
    "    # Leitura do primeiro dataset para carregar as columns\n",
    "    dir = \"./data/transfers_master/data/\"+ year + \"/dutch_eredivisie.csv\"\n",
    "    data = pd.read_csv(dir)\n",
    "\n",
    "    # Loop desconsidera o primeiro elemento (carregado no código acima)\n",
    "    for league in os.listdir(DATA_DIR + '/' + year)[1:]:\n",
    "            string = (DATA_DIR + '/' + year + '/' + league)\n",
    "            data_temp = pd.read_csv(string)\n",
    "            \n",
    "            # Concatenação dos dados\n",
    "            data = pd.concat([data, data_temp])\n",
    "     \n",
    "    return(data)\n",
    "\n",
    "def concat_year(start, end, DATA_DIR, data):\n",
    "    \n",
    "    for year in range(start, end+1):\n",
    "        data = pd.concat([data, loading_data(DATA_DIR, str(year))])\n",
    "        \n",
    "    return data"
   ]
  },
  {
   "cell_type": "code",
   "execution_count": null,
   "metadata": {},
   "outputs": [],
   "source": [
    "DATA_DIR = './data/transfers_master/data'\n",
    "YEAR = '1992'\n",
    "\n",
    "data = loading_data(DATA_DIR, YEAR)\n",
    "data"
   ]
  },
  {
   "cell_type": "code",
   "execution_count": null,
   "metadata": {},
   "outputs": [],
   "source": [
    "data = concat_year(1993, 2015, DATA_DIR, data)"
   ]
  },
  {
   "cell_type": "code",
   "execution_count": null,
   "metadata": {},
   "outputs": [],
   "source": [
    "data_in = data.loc[data[\"transfer_movement\"] == \"in\"]\n",
    "data_out = data.loc[data[\"transfer_movement\"] == \"out\"]\n",
    "data_in = data_in.reset_index()\n",
    "data_out = data_out.reset_index()"
   ]
  },
  {
   "cell_type": "code",
   "execution_count": null,
   "metadata": {},
   "outputs": [],
   "source": [
    "import matplotlib.pyplot as plt\n",
    "\n",
    "pre_gal = pl.sort_index()\n",
    "pos_gal = pl.sort_index()\n",
    "pre_gal = pre_gal[:11]\n",
    "pos_gal = pos_gal[11:]\n",
    "\n",
    "plt.style.use('ggplot')\n",
    "pl = data_in[\"year\"].value_counts()\n",
    "plt.title(\"Número Total de Transferências\")\n",
    "plt.xlabel(\"Ano\")\n",
    "plt.ylabel(\"Transferências\")\n",
    "plt.plot(pl.sort_index(), 'o', label = \"Transferências\")\n",
    "plt.plot(2003 ,pl[2003], 'bo', label = \"Era\")"
   ]
  },
  {
   "cell_type": "code",
   "execution_count": null,
   "metadata": {},
   "outputs": [],
   "source": [
    "plt.figure(figsize = (8,4))\n",
    "plt.plot(pre_gal, 'o', label = \"Pré-Galácticos\", color = \"#AA33AA\")\n",
    "plt.plot(pos_gal, 'o', label = \"Pós-Galácticos\", color = \"#3333AA\")\n",
    "plt.title(\"Número Total de Transferências\")\n",
    "plt.xlabel(\"Ano\")\n",
    "plt.ylabel(\"Transferências\")\n",
    "plt.legend(loc=\"upper left\")\n",
    "plt.show()"
   ]
  },
  {
   "cell_type": "code",
   "execution_count": null,
   "metadata": {
    "scrolled": false
   },
   "outputs": [],
   "source": [
    "in_names = list(data_in[\"club_name\"].value_counts().index)\n",
    "out_names = list(data_in[\"club_involved_name\"].value_counts().index)\n",
    "name_dic = {}\n",
    "problems = [\"Olympique Marseille\", \"Olympique Lyon\", \"Eintracht Braunschweig\", \"Eintracht Frankfurt\"]\n",
    "for in_str in in_names:\n",
    "    for out_str in out_names:\n",
    "\n",
    "        if out_str[:10] in in_str and out_str != in_str:\n",
    "            if (out_str not in problems) or (in_str not in problems):\n",
    "                print(in_str ,\", \", out_str)\n",
    "                name_dic[out_str] = in_str"
   ]
  },
  {
   "cell_type": "code",
   "execution_count": null,
   "metadata": {},
   "outputs": [],
   "source": [
    "for k,v in name_dic.items():\n",
    "    data_in[\"club_involved_name\"].replace({k: v}, inplace=True)\n",
    "    \n",
    "data_in"
   ]
  },
  {
   "cell_type": "code",
   "execution_count": null,
   "metadata": {},
   "outputs": [],
   "source": [
    "data_in[\"year\"].value_counts()"
   ]
  },
  {
   "cell_type": "code",
   "execution_count": null,
   "metadata": {},
   "outputs": [],
   "source": [
    "data_pre_gal = data_in[data_in[\"year\"] <= 2003]\n",
    "data_pos_gal =  data_in[data_in[\"year\"] > 2003]"
   ]
  },
  {
   "cell_type": "code",
   "execution_count": null,
   "metadata": {},
   "outputs": [],
   "source": [
    "g = Graph(directed=True) # dirigido\n",
    "g.vp['name'] = g.new_vp('object')"
   ]
  },
  {
   "cell_type": "code",
   "execution_count": null,
   "metadata": {},
   "outputs": [],
   "source": [
    "times = []\n",
    "for index, rows in data_pre_gal.iterrows():\n",
    "    time1 = rows[1]\n",
    "    time2 = rows[5]\n",
    "    if time1 not in times:\n",
    "        times.append(time1)\n",
    "        g.add_vertex()\n",
    "        v_time = g.vertex(times.index(time1))\n",
    "        g.vp['name'][v_time] = time1\n",
    "        \n",
    "    if time2 not in times:\n",
    "        times.append(time2)\n",
    "        g.add_vertex()\n",
    "        v_time = g.vertex(times.index(time2))\n",
    "        g.vp['name'][v_time] = time2\n",
    "    \n",
    "    index1 = times.index(time1)\n",
    "    index2 = times.index(time2)\n",
    "    \n",
    "    if g.edge(index1, index2) == None:\n",
    "        g.add_edge(index1, index2)"
   ]
  },
  {
   "cell_type": "code",
   "execution_count": null,
   "metadata": {},
   "outputs": [],
   "source": [
    "m = draw_gt.sfdp_layout(g)\n",
    "move_gt(g, m)\n",
    "save_gt(g, 'pre_gal.net.gz')"
   ]
  },
  {
   "cell_type": "code",
   "execution_count": null,
   "metadata": {},
   "outputs": [],
   "source": [
    "r = netpixi.render('pre_gal.net.gz')"
   ]
  },
  {
   "cell_type": "code",
   "execution_count": null,
   "metadata": {},
   "outputs": [],
   "source": [
    "# mudar a cor de fundo do grafo\n",
    "r.graph(color=0xffffff)\n",
    "\n",
    "# mudar a cor e o tamanho dos vértices\n",
    "r.vertex_default(color=0x7E3C6B, size=10)\n",
    "\n",
    "# mudar a cor, a espessura e a curvatura das arestas\n",
    "r.edge_default(color=0x000000, width=1, curve1=0, curve2=0)\n",
    "r.vertex_set_key('name')"
   ]
  },
  {
   "cell_type": "code",
   "execution_count": null,
   "metadata": {},
   "outputs": [],
   "source": [
    "g2 = Graph(directed=True) # dirigido\n",
    "g2.vp['name'] = g2.new_vp('object')"
   ]
  },
  {
   "cell_type": "code",
   "execution_count": null,
   "metadata": {},
   "outputs": [],
   "source": [
    "times = []\n",
    "for index, rows in data_pos_gal.iterrows():\n",
    "    time1 = rows[1]\n",
    "    time2 = rows[5]\n",
    "    if time1 not in times:\n",
    "        times.append(time1)\n",
    "        g2.add_vertex()\n",
    "        v_time = g2.vertex(times.index(time1))\n",
    "        g2.vp['name'][v_time] = time1\n",
    "        \n",
    "    if time2 not in times:\n",
    "        times.append(time2)\n",
    "        g2.add_vertex()\n",
    "        v_time = g2.vertex(times.index(time2))\n",
    "        g2.vp['name'][v_time] = time2\n",
    "    \n",
    "    index1 = times.index(time1)\n",
    "    index2 = times.index(time2)\n",
    "    \n",
    "    if g.edge(index1, index2) == None:\n",
    "        g.add_edge(index1, index2)"
   ]
  },
  {
   "cell_type": "code",
   "execution_count": null,
   "metadata": {},
   "outputs": [],
   "source": [
    "stats.remove_self_loops(g2)\n",
    "m = draw_gt.sfdp_layout(g2)\n",
    "move_gt(g2, m)\n",
    "save_gt(g2, 'pos_gal.net.gz')"
   ]
  },
  {
   "cell_type": "code",
   "execution_count": null,
   "metadata": {},
   "outputs": [],
   "source": [
    "r = netpixi.render('pos_gal.net.gz')"
   ]
  },
  {
   "cell_type": "code",
   "execution_count": null,
   "metadata": {},
   "outputs": [],
   "source": [
    "# mudar a cor de fundo do grafo\n",
    "r.graph(color=0xffffff)\n",
    "\n",
    "# mudar a cor e o tamanho dos vértices\n",
    "r.vertex_default(color=0x7E3C6B, size=10)\n",
    "\n",
    "# mudar a cor, a espessura e a curvatura das arestas\n",
    "r.edge_default(color=0x000000, width=1, curve1=0, curve2=0)\n",
    "r.vertex_set_key('name')"
   ]
  }
 ],
 "metadata": {
  "kernelspec": {
   "display_name": "Python 3 (ipykernel)",
   "language": "python",
   "name": "python3"
  },
  "language_info": {
   "codemirror_mode": {
    "name": "ipython",
    "version": 3
   },
   "file_extension": ".py",
   "mimetype": "text/x-python",
   "name": "python",
   "nbconvert_exporter": "python",
   "pygments_lexer": "ipython3",
   "version": "3.7.11"
  }
 },
 "nbformat": 4,
 "nbformat_minor": 4
}
