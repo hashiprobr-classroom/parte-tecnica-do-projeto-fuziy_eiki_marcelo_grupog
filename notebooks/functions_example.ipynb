{
 "cells": [
  {
   "cell_type": "code",
   "execution_count": 1,
   "metadata": {},
   "outputs": [],
   "source": [
    "import pandas as pd\n",
    "\n",
    "from script_example import *"
   ]
  },
  {
   "cell_type": "code",
   "execution_count": 4,
   "metadata": {},
   "outputs": [
    {
     "data": {
      "text/html": [
       "<div>\n",
       "<style scoped>\n",
       "    .dataframe tbody tr th:only-of-type {\n",
       "        vertical-align: middle;\n",
       "    }\n",
       "\n",
       "    .dataframe tbody tr th {\n",
       "        vertical-align: top;\n",
       "    }\n",
       "\n",
       "    .dataframe thead th {\n",
       "        text-align: right;\n",
       "    }\n",
       "</style>\n",
       "<table border=\"1\" class=\"dataframe\">\n",
       "  <thead>\n",
       "    <tr style=\"text-align: right;\">\n",
       "      <th></th>\n",
       "      <th>time1</th>\n",
       "      <th>time2</th>\n",
       "      <th>Stage</th>\n",
       "      <th>Final</th>\n",
       "      <th>Vencedor</th>\n",
       "    </tr>\n",
       "  </thead>\n",
       "  <tbody>\n",
       "    <tr>\n",
       "      <th>0</th>\n",
       "      <td>PSG</td>\n",
       "      <td>Barcelona</td>\n",
       "      <td>Fase-de-Grupos</td>\n",
       "      <td>[2, 1]</td>\n",
       "      <td>PSG</td>\n",
       "    </tr>\n",
       "    <tr>\n",
       "      <th>1</th>\n",
       "      <td>PSG</td>\n",
       "      <td>Real Madrid</td>\n",
       "      <td>Fase-de-Grupos</td>\n",
       "      <td>[1, 1]</td>\n",
       "      <td>Empate</td>\n",
       "    </tr>\n",
       "    <tr>\n",
       "      <th>2</th>\n",
       "      <td>PSG</td>\n",
       "      <td>Chelsea</td>\n",
       "      <td>Fase-de-Grupos</td>\n",
       "      <td>[3, 1]</td>\n",
       "      <td>PSG</td>\n",
       "    </tr>\n",
       "    <tr>\n",
       "      <th>3</th>\n",
       "      <td>PSG</td>\n",
       "      <td>Liverpool</td>\n",
       "      <td>Eliminatórias</td>\n",
       "      <td>[5, 4]</td>\n",
       "      <td>PSG</td>\n",
       "    </tr>\n",
       "    <tr>\n",
       "      <th>4</th>\n",
       "      <td>PSG</td>\n",
       "      <td>Juventus</td>\n",
       "      <td>Final</td>\n",
       "      <td>[0, 1]</td>\n",
       "      <td>Juventus</td>\n",
       "    </tr>\n",
       "  </tbody>\n",
       "</table>\n",
       "</div>"
      ],
      "text/plain": [
       "  time1        time2           Stage   Final  Vencedor\n",
       "0   PSG    Barcelona  Fase-de-Grupos  [2, 1]       PSG\n",
       "1   PSG  Real Madrid  Fase-de-Grupos  [1, 1]    Empate\n",
       "2   PSG      Chelsea  Fase-de-Grupos  [3, 1]       PSG\n",
       "3   PSG    Liverpool   Eliminatórias  [5, 4]       PSG\n",
       "4   PSG     Juventus           Final  [0, 1]  Juventus"
      ]
     },
     "execution_count": 4,
     "metadata": {},
     "output_type": "execute_result"
    }
   ],
   "source": [
    "df = create_example()\n",
    "df"
   ]
  },
  {
   "cell_type": "code",
   "execution_count": 5,
   "metadata": {},
   "outputs": [],
   "source": [
    "def create_score_book(dataframe):\n",
    "    \n",
    "    score_book = {}\n",
    "    \n",
    "    t1 = list(dataframe[\"time1\"].value_counts().index)\n",
    "    t2 = list(dataframe[\"time2\"].value_counts().index)\n",
    "    \n",
    "    for team in (t1 + list(set(t2) - set(t1))):\n",
    "        score_book[team] = 0\n",
    "        \n",
    "    return score_book\n",
    "\n",
    "def get_points(stage):\n",
    "    \n",
    "    if stage == \"Fase-de-Grupos\":\n",
    "        return 1\n",
    "    \n",
    "    elif stage == \"Eliminatórias\":\n",
    "        return 2\n",
    "    \n",
    "    elif stage == \"Final\":\n",
    "        return 5\n",
    "    \n",
    "def performance(df):\n",
    "\n",
    "    score_book = create_score_book(df)\n",
    "    \n",
    "    for i in range(df.shape[0]):\n",
    "\n",
    "        stage = (df[\"Stage\"].loc[i])\n",
    "        winner = (df[\"Vencedor\"].loc[i])\n",
    "\n",
    "        if winner != \"Empate\":\n",
    "\n",
    "            score_book[winner] += get_points(stage)\n",
    "            \n",
    "    return score_book"
   ]
  },
  {
   "cell_type": "code",
   "execution_count": 6,
   "metadata": {},
   "outputs": [
    {
     "data": {
      "text/plain": [
       "{'PSG': 4,\n",
       " 'Chelsea': 0,\n",
       " 'Real Madrid': 0,\n",
       " 'Barcelona': 0,\n",
       " 'Juventus': 5,\n",
       " 'Liverpool': 0}"
      ]
     },
     "execution_count": 6,
     "metadata": {},
     "output_type": "execute_result"
    }
   ],
   "source": [
    "score_book = performance(df)\n",
    "score_book"
   ]
  },
  {
   "cell_type": "code",
   "execution_count": null,
   "metadata": {},
   "outputs": [],
   "source": []
  }
 ],
 "metadata": {
  "kernelspec": {
   "display_name": "Python 3",
   "language": "python",
   "name": "python3"
  },
  "language_info": {
   "codemirror_mode": {
    "name": "ipython",
    "version": 3
   },
   "file_extension": ".py",
   "mimetype": "text/x-python",
   "name": "python",
   "nbconvert_exporter": "python",
   "pygments_lexer": "ipython3",
   "version": "3.8.3"
  }
 },
 "nbformat": 4,
 "nbformat_minor": 4
}
