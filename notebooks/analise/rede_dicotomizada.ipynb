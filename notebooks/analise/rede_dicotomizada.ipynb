{
 "cells": [
  {
   "cell_type": "code",
   "execution_count": 43,
   "id": "faf12da1",
   "metadata": {},
   "outputs": [],
   "source": [
    "import pandas as pd\n",
    "import os\n",
    "from graph_tool import Graph, stats, spectral\n",
    "from netpixi.data.gt import *\n",
    "import netpixi\n",
    "import cpnet\n",
    "import seaborn as sns\n",
    "from math import sqrt\n",
    "from matplotlib import rcParams\n",
    "import statsmodels.formula.api as smf\n",
    "import numpy as np\n",
    "from scipy.stats import norm"
   ]
  },
  {
   "cell_type": "code",
   "execution_count": 44,
   "id": "3e298bd8",
   "metadata": {},
   "outputs": [
    {
     "data": {
      "text/plain": [
       "['spanish_primera_division.csv',\n",
       " 'dutch_eredivisie.csv',\n",
       " 'portugese_liga_nos.csv',\n",
       " 'french_ligue_1.csv',\n",
       " 'italian_serie_a.csv',\n",
       " 'russian_premier_liga.csv',\n",
       " 'english_premier_league.csv',\n",
       " 'english_championship.csv',\n",
       " 'german_bundesliga_1.csv']"
      ]
     },
     "execution_count": 44,
     "metadata": {},
     "output_type": "execute_result"
    }
   ],
   "source": [
    "DATA_DIR = './data/transfers_master/data'\n",
    "os.listdir(DATA_DIR + '/' + '2014')"
   ]
  },
  {
   "cell_type": "code",
   "execution_count": 45,
   "id": "4a46c949",
   "metadata": {},
   "outputs": [],
   "source": [
    "def loading_data(DATA_DIR, year):\n",
    "    \n",
    "    # Leitura do primeiro dataset para carregar as columns\n",
    "    dir = \"./data/transfers_master/data/\"+ year + \"/dutch_eredivisie.csv\"\n",
    "    data = pd.read_csv(dir)\n",
    "\n",
    "    # Loop desconsidera o primeiro elemento (carregado no código acima)\n",
    "    for league in os.listdir(DATA_DIR + '/' + year)[1:]:\n",
    "            string = (DATA_DIR + '/' + year + '/' + league)\n",
    "            data_temp = pd.read_csv(string)\n",
    "            \n",
    "            # Concatenação dos dados\n",
    "            data = pd.concat([data, data_temp])\n",
    "     \n",
    "    return(data)\n",
    "\n",
    "def concat_year(start, end, DATA_DIR, data):\n",
    "    \n",
    "    for year in range(start, end+1):\n",
    "        data = pd.concat([data, loading_data(DATA_DIR, str(year))])\n",
    "        \n",
    "    return data"
   ]
  },
  {
   "cell_type": "code",
   "execution_count": 46,
   "id": "460d557a",
   "metadata": {},
   "outputs": [],
   "source": [
    "DATA_DIR = './data/transfers_master/data'\n",
    "YEAR = '1992'\n",
    "\n",
    "data = loading_data(DATA_DIR, YEAR)"
   ]
  },
  {
   "cell_type": "code",
   "execution_count": 47,
   "id": "fa920de7",
   "metadata": {},
   "outputs": [],
   "source": [
    "data = concat_year(1993, 2015, DATA_DIR, data)"
   ]
  },
  {
   "cell_type": "code",
   "execution_count": 48,
   "id": "3c3a9593",
   "metadata": {},
   "outputs": [],
   "source": [
    "data_in = data.loc[data[\"transfer_movement\"] == \"in\"]\n",
    "data_out = data.loc[data[\"transfer_movement\"] == \"out\"]\n",
    "data_in = data_in.reset_index()\n",
    "data_out = data_out.reset_index()"
   ]
  },
  {
   "cell_type": "code",
   "execution_count": 49,
   "id": "675bf3b6",
   "metadata": {},
   "outputs": [],
   "source": [
    "in_names = list(data_in[\"club_name\"].value_counts().index)\n",
    "out_names = list(data_in[\"club_involved_name\"].value_counts().index)\n",
    "name_dic = {}\n",
    "problems = [\"Olympique Marseille\", \"Olympique Lyon\", \"Eintracht Braunschweig\", \"Eintracht Frankfurt\"]\n",
    "for in_str in in_names:\n",
    "    for out_str in out_names:\n",
    "\n",
    "        if out_str[:10] in in_str and out_str != in_str:\n",
    "            if (out_str not in problems) or (in_str not in problems):\n",
    "#                 print(in_str ,\", \", out_str)\n",
    "                name_dic[out_str] = in_str"
   ]
  },
  {
   "cell_type": "code",
   "execution_count": 50,
   "id": "a628a90e",
   "metadata": {},
   "outputs": [],
   "source": [
    "for k,v in name_dic.items():\n",
    "    data_in[\"club_involved_name\"].replace({k: v}, inplace=True)\n",
    "    \n",
    "# data_in"
   ]
  },
  {
   "cell_type": "code",
   "execution_count": 51,
   "id": "39f4bcec",
   "metadata": {},
   "outputs": [],
   "source": [
    "# data_pre_gal = data_in[data_in[\"year\"] <= 2003]\n",
    "# data_pos_gal =  data_in[data_in[\"year\"] > 2003]"
   ]
  },
  {
   "cell_type": "code",
   "execution_count": 52,
   "id": "0bae4a1f",
   "metadata": {},
   "outputs": [
    {
     "data": {
      "text/plain": [
       "0"
      ]
     },
     "execution_count": 52,
     "metadata": {},
     "output_type": "execute_result"
    }
   ],
   "source": [
    "times1 = list(data_in[\"club_name\"].value_counts().index)\n",
    "times2 = list(data_in[\"club_involved_name\"].value_counts().index)\n",
    "all_teams = times1 + list(set(times2) - set(times1))\n",
    "len(all_teams)\n",
    "matriz_dinamica = np.zeros((len(all_teams), len(all_teams)))\n",
    "all_teams.index(\"Feyenoord Rotterdam\")"
   ]
  },
  {
   "cell_type": "code",
   "execution_count": 53,
   "id": "7853c8c3",
   "metadata": {},
   "outputs": [],
   "source": [
    "g2 = Graph(directed=True) # dirigido\n",
    "g2.vp['name'] = g2.new_vp('object')\n",
    "g2.vp['league'] = g2.new_vp('object')\n",
    "g2.ep[\"transfer\"] = g2.new_ep('object')"
   ]
  },
  {
   "cell_type": "code",
   "execution_count": 54,
   "id": "cf52ebbd",
   "metadata": {},
   "outputs": [
    {
     "ename": "KeyboardInterrupt",
     "evalue": "",
     "output_type": "error",
     "traceback": [
      "\u001b[0;31m---------------------------------------------------------------------------\u001b[0m",
      "\u001b[0;31mKeyboardInterrupt\u001b[0m                         Traceback (most recent call last)",
      "\u001b[0;32m/tmp/ipykernel_107/4139522104.py\u001b[0m in \u001b[0;36m<module>\u001b[0;34m\u001b[0m\n\u001b[1;32m     24\u001b[0m     \u001b[0;32mfor\u001b[0m \u001b[0mi\u001b[0m \u001b[0;32min\u001b[0m \u001b[0mrange\u001b[0m\u001b[0;34m(\u001b[0m\u001b[0mlen\u001b[0m\u001b[0;34m(\u001b[0m\u001b[0mall_teams\u001b[0m\u001b[0;34m)\u001b[0m\u001b[0;34m)\u001b[0m\u001b[0;34m:\u001b[0m\u001b[0;34m\u001b[0m\u001b[0;34m\u001b[0m\u001b[0m\n\u001b[1;32m     25\u001b[0m         \u001b[0;32mfor\u001b[0m \u001b[0mj\u001b[0m \u001b[0;32min\u001b[0m \u001b[0mrange\u001b[0m\u001b[0;34m(\u001b[0m\u001b[0mlen\u001b[0m\u001b[0;34m(\u001b[0m\u001b[0mall_teams\u001b[0m\u001b[0;34m)\u001b[0m\u001b[0;34m)\u001b[0m\u001b[0;34m:\u001b[0m\u001b[0;34m\u001b[0m\u001b[0;34m\u001b[0m\u001b[0m\n\u001b[0;32m---> 26\u001b[0;31m             \u001b[0;32mif\u001b[0m \u001b[0mmatriz_dinamica\u001b[0m\u001b[0;34m[\u001b[0m\u001b[0mi\u001b[0m\u001b[0;34m]\u001b[0m\u001b[0;34m[\u001b[0m\u001b[0mj\u001b[0m\u001b[0;34m]\u001b[0m  \u001b[0;34m>=\u001b[0m \u001b[0;36m1\u001b[0m\u001b[0;34m:\u001b[0m\u001b[0;34m\u001b[0m\u001b[0;34m\u001b[0m\u001b[0m\n\u001b[0m\u001b[1;32m     27\u001b[0m                 \u001b[0;32mif\u001b[0m \u001b[0mg2\u001b[0m\u001b[0;34m.\u001b[0m\u001b[0medge\u001b[0m\u001b[0;34m(\u001b[0m\u001b[0mindex1\u001b[0m\u001b[0;34m,\u001b[0m \u001b[0mindex2\u001b[0m\u001b[0;34m)\u001b[0m \u001b[0;34m==\u001b[0m \u001b[0;32mNone\u001b[0m\u001b[0;34m:\u001b[0m\u001b[0;34m\u001b[0m\u001b[0;34m\u001b[0m\u001b[0m\n\u001b[1;32m     28\u001b[0m                     \u001b[0mg2\u001b[0m\u001b[0;34m.\u001b[0m\u001b[0madd_edge\u001b[0m\u001b[0;34m(\u001b[0m\u001b[0mindex1\u001b[0m\u001b[0;34m,\u001b[0m \u001b[0mindex2\u001b[0m\u001b[0;34m)\u001b[0m\u001b[0;34m\u001b[0m\u001b[0;34m\u001b[0m\u001b[0m\n",
      "\u001b[0;31mKeyboardInterrupt\u001b[0m: "
     ]
    }
   ],
   "source": [
    "times = []\n",
    "for index, rows in data_in.iterrows():\n",
    "    time1 = rows[1]\n",
    "    time2 = rows[5]\n",
    "    matriz_dinamica[all_teams.index(time1)][all_teams.index(time2)] += 1\n",
    "    \n",
    "    if time1 not in times:\n",
    "        times.append(time1)\n",
    "        g2.add_vertex()\n",
    "        v_time = g2.vertex(times.index(time1))\n",
    "        g2.vp['name'][v_time] = time1\n",
    "        g2.vp['league'][v_time] = rows[10]\n",
    "        \n",
    "    if time2 not in times:\n",
    "        times.append(time2)\n",
    "        g2.add_vertex()\n",
    "        v_time = g2.vertex(times.index(time2))\n",
    "        g2.vp['name'][v_time] = time2\n",
    "        g2.vp['league'][v_time] = rows[10]\n",
    "    \n",
    "    index1 = times.index(time1)\n",
    "    index2 = times.index(time2)\n",
    "    \n",
    "    for i in range(len(all_teams)):\n",
    "        for j in range(len(all_teams)):\n",
    "            if matriz_dinamica[i][j]  >= 1:\n",
    "                if g2.edge(index1, index2) == None:\n",
    "                    g2.add_edge(index1, index2)\n",
    "                    e = g2.edge(index1, index2)\n",
    "                    g2.ep[\"transfer\"][e] = matriz_dinamica[i][j]\n",
    "                \n",
    "#     if g2.edge(index1, index2) == None:\n",
    "#         g2.add_edge(index1, index2)\n",
    "#         e = g2.edge(index1, index2)\n",
    "#         g2.ep[\"transfer\"][e] = 1\n",
    "#     else:\n",
    "#         e = g2.edge(index1, index2)\n",
    "#         g2.ep[\"transfer\"][e] = g2.ep[\"transfer\"][e] + 1\n",
    "\n",
    "# for i in range(len(all_teams)):\n",
    "#     for j in range(len(all_teams)):\n",
    "#         if matriz_dinamica[i][j]  >= 1:\n",
    "#             g2.add_edge(index1, index2)\n",
    "#             g2.ep[\"transfer\"][e] = 1\n",
    "            \n",
    "\n",
    "matriz_dinamica"
   ]
  },
  {
   "cell_type": "code",
   "execution_count": null,
   "id": "dc94985d",
   "metadata": {},
   "outputs": [],
   "source": [
    "# times = []\n",
    "# for index, rows in data_in.iterrows():\n",
    "#     time1 = rows[1]\n",
    "#     time2 = rows[5]\n",
    "#     if time1 not in times:\n",
    "#         times.append(time1)\n",
    "#         g2.add_vertex()\n",
    "#         v_time = g2.vertex(times.index(time1))\n",
    "#         g2.vp['name'][v_time] = time1\n",
    "#         g2.vp['league'][v_time] = rows[10]\n",
    "        \n",
    "#     if time2 not in times:\n",
    "#         times.append(time2)\n",
    "#         g2.add_vertex()\n",
    "#         v_time = g2.vertex(times.index(time2))\n",
    "#         g2.vp['name'][v_time] = time2\n",
    "#         g2.vp['league'][v_time] = rows[10]\n",
    "    \n",
    "#     index1 = times.index(time1)\n",
    "#     index2 = times.index(time2)\n",
    "    \n",
    "#     if g2.edge(index1, index2) == None:\n",
    "#         g2.add_edge(index1, index2)\n",
    "#         e = g2.edge(index1, index2)\n",
    "#         g2.ep[\"transfer\"][e] = 1\n",
    "#     else:\n",
    "#         e = g2.edge(index1, index2)\n",
    "#         g2.ep[\"transfer\"][e] = g2.ep[\"transfer\"][e] + 1"
   ]
  },
  {
   "cell_type": "code",
   "execution_count": null,
   "id": "083f2874",
   "metadata": {},
   "outputs": [],
   "source": [
    "stats.remove_self_loops(g2)\n"
   ]
  },
  {
   "cell_type": "code",
   "execution_count": null,
   "id": "824108b9",
   "metadata": {},
   "outputs": [],
   "source": [
    "\n",
    "g2.vp['color'] = g2.new_vp('object')\n",
    "\n",
    "for v in g2.vertices():\n",
    "    if g2.vp['league'][v] == \"Premier League\":\n",
    "        g2.vp['color'][v] = 0x0000ff\n",
    "        \n",
    "    if g2.vp['league'][v] == \"Eredivisie\":\n",
    "        g2.vp['color'][v] = 0x00ff00\n",
    "        \n",
    "    if g2.vp['league'][v] == \"Championship\":\n",
    "        g2.vp['color'][v] = 0x0000f0\n",
    "        \n",
    "    if g2.vp['league'][v] == \"Serie A\":\n",
    "        g2.vp['color'][v] = 0xff00ff\n",
    "        \n",
    "    if g2.vp['league'][v] == \"Liga Nos\":\n",
    "        g2.vp['color'][v] = 0xff0000\n",
    "        \n",
    "    if g2.vp['league'][v] == \"Ligue 1\":\n",
    "        g2.vp['color'][v] = 0xffff00\n",
    "        \n",
    "    if g2.vp['league'][v] == \"1 Bundesliga\":\n",
    "        g2.vp['color'][v] = 0x1100ff\n",
    "        \n",
    "    if g2.vp['league'][v] == \"Premier Liga\":\n",
    "        g2.vp['color'][v] = 0x00ffff"
   ]
  },
  {
   "cell_type": "code",
   "execution_count": null,
   "id": "0d6c801c",
   "metadata": {},
   "outputs": [],
   "source": [
    "def centro_periferia(g, t):\n",
    "    matrix = spectral.adjacency(g)\n",
    "    if t == \"core\":\n",
    "        algorithm = cpnet.LowRankCore()\n",
    "    elif t == \"coreness\":\n",
    "        algorithm = cpnet.MINRES()\n",
    "\n",
    "    algorithm.detect(matrix)\n",
    "    c = algorithm.get_coreness()\n",
    "\n",
    "    g.vp[t] = g.new_vp('object')\n",
    "    for i, coreness in c.items():\n",
    "        v = g.vertex(i)\n",
    "        g.vp[t][v] = float(coreness)"
   ]
  },
  {
   "cell_type": "code",
   "execution_count": null,
   "id": "ca655ef3",
   "metadata": {},
   "outputs": [],
   "source": [
    "# centro_periferia(g2, \"core\")"
   ]
  },
  {
   "cell_type": "code",
   "execution_count": null,
   "id": "a1a4fdfd",
   "metadata": {},
   "outputs": [],
   "source": [
    "df = pd.DataFrame({k: list(v) for k, v in g2.vp.items()})\n",
    "df"
   ]
  },
  {
   "cell_type": "code",
   "execution_count": null,
   "id": "20afed38",
   "metadata": {},
   "outputs": [],
   "source": [
    "def get_weight(grafo, propriedade):\n",
    "    l = []\n",
    "    for u in grafo.vertices():\n",
    "        i = 0\n",
    "        for e in u.out_edges():\n",
    "            i += grafo.ep[propriedade][e]\n",
    "        l.append(i)\n",
    "    return l"
   ]
  },
  {
   "cell_type": "code",
   "execution_count": null,
   "id": "e0aca44d",
   "metadata": {},
   "outputs": [],
   "source": [
    "df[\"transfer\"] = get_weight(g2, \"transfer\")\n",
    "df_dicotomizado = df[df[\"transfer\"] > df[\"transfer\"].mean()]"
   ]
  },
  {
   "cell_type": "code",
   "execution_count": null,
   "id": "dbb51bf2",
   "metadata": {},
   "outputs": [],
   "source": [
    "def get_all_edges(grafo, propriedade):\n",
    "    edges = []\n",
    "    for u in grafo.vertices():\n",
    "        for e in u.out_edges():\n",
    "            transfer = grafo.ep[propriedade][e]\n",
    "            edges.append(transfer)\n",
    "    return edges"
   ]
  },
  {
   "cell_type": "code",
   "execution_count": null,
   "id": "c914c316",
   "metadata": {},
   "outputs": [],
   "source": [
    "# all_edges = get_all_edges(g2, \"transfer\")"
   ]
  },
  {
   "cell_type": "code",
   "execution_count": null,
   "id": "a1cd7b93",
   "metadata": {},
   "outputs": [],
   "source": [
    "stats.remove_parallel_edges(g2)\n",
    "m = draw_gt.sfdp_layout(g2)\n",
    "move_gt(g2, m)\n",
    "save_gt(g2, 'rede_normal.net.gz')"
   ]
  },
  {
   "cell_type": "code",
   "execution_count": null,
   "id": "16e5d9dd",
   "metadata": {},
   "outputs": [],
   "source": [
    "# def removing_edges(grafo, propriedade, remove_value):\n",
    "#     for u in grafo.vertices():\n",
    "#         for e in u.out_edges():\n",
    "#             transfer = grafo.ep[propriedade][e]\n",
    "#             if transfer <= remove_value:\n",
    "#                 grafo.remove_edge(e)\n",
    "#     return grafo\n",
    "# rede_dicotomizada = removing_edges(g2, \"transfer\", 1)"
   ]
  },
  {
   "cell_type": "code",
   "execution_count": null,
   "id": "761b3879",
   "metadata": {},
   "outputs": [],
   "source": [
    "# stats.remove_parallel_edges(rede_dicotomizada)\n",
    "# m = draw_gt.sfdp_layout(rede_dicotomizada)\n",
    "# move_gt(rede_dicotomizada, m)\n",
    "# save_gt(rede_dicotomizada, 'rede_dicotomizada.net.gz')"
   ]
  },
  {
   "cell_type": "code",
   "execution_count": null,
   "id": "87a41d30",
   "metadata": {},
   "outputs": [],
   "source": [
    "render_dicotomizada = netpixi.render('rede_normal.net.gz')"
   ]
  },
  {
   "cell_type": "code",
   "execution_count": null,
   "id": "2618cf51",
   "metadata": {},
   "outputs": [],
   "source": [
    "render_dicotomizada.graph(color=0x000000)\n",
    "render_dicotomizada.vertex_default(size=10)\n",
    "render_dicotomizada.edge_default(color=0xFFFFFF, width=1, curve1=0, curve2=0)"
   ]
  },
  {
   "cell_type": "code",
   "execution_count": null,
   "id": "1811f3a8",
   "metadata": {},
   "outputs": [],
   "source": []
  }
 ],
 "metadata": {
  "kernelspec": {
   "display_name": "Python 3 (ipykernel)",
   "language": "python",
   "name": "python3"
  },
  "language_info": {
   "codemirror_mode": {
    "name": "ipython",
    "version": 3
   },
   "file_extension": ".py",
   "mimetype": "text/x-python",
   "name": "python",
   "nbconvert_exporter": "python",
   "pygments_lexer": "ipython3",
   "version": "3.7.11"
  }
 },
 "nbformat": 4,
 "nbformat_minor": 5
}
